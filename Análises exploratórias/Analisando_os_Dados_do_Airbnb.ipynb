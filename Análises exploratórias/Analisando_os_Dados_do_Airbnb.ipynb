{
  "nbformat": 4,
  "nbformat_minor": 0,
  "metadata": {
    "colab": {
      "name": "[projeto]Analisando_os_Dados_do_Airbnb.ipynb",
      "provenance": [],
      "collapsed_sections": [
        "kLI0gJtzDGuQ",
        "73hqxARHnV4a",
        "LW_F2NVnjKSU"
      ]
    },
    "kernelspec": {
      "name": "python3",
      "display_name": "Python 3"
    }
  },
  "cells": [
    {
      "cell_type": "markdown",
      "metadata": {
        "id": "kLI0gJtzDGuQ"
      },
      "source": [
        "<img alt=\"Colaboratory logo\" width=\"15%\" src=\"https://raw.githubusercontent.com/carlosfab/escola-data-science/master/img/novo_logo_bg_claro.png\">\n",
        "\n",
        "#### **Data Science na Prática 3.0**\n",
        "*by [sigmoidal.ai](https://sigmoidal.ai)*\n",
        "\n",
        "---\n",
        "\n",
        "# Análise dos Dados do Airbnb - *Sua Cidade*\n",
        "\n",
        "O [Airbnb](https://www.airbnb.com.br/) já é considerado como sendo a **maior empresa hoteleira da atualidade**. Ah, o detalhe é que ele **não possui nenhum hotel**!\n",
        "\n",
        "Conectando pessoas que querem viajar (e se hospedar) com anfitriões que querem alugar seus imóveis de maneira prática, o Airbnb fornece uma plataforma inovadora para tornar essa hospedagem alternativa.\n",
        "\n",
        "No final de 2018, a Startup fundada 10 anos atrás, já havia **hospedado mais de 300 milhões** de pessoas ao redor de todo o mundo, desafiando as redes hoteleiras tradicionais.\n",
        "\n",
        "Uma das iniciativas do Airbnb é disponibilizar dados do site, para algumas das principais cidades do mundo. Por meio do portal [Inside Airbnb](http://insideairbnb.com/get-the-data.html), é possível baixar uma grande quantidade de dados para desenvolver projetos e soluções de *Data Science*.\n",
        "\n",
        "<center><img alt=\"Analisando Airbnb\" width=\"10%\" src=\"https://www.area360.com.au/wp-content/uploads/2017/09/airbnb-logo.jpg\"></center>\n",
        "\n",
        "**Neste *notebook*, iremos analisar os dados referentes à cidade de Los Angeles EUA, e ver quais insights podem ser extraídos a partir de dados brutos.**"
      ]
    },
    {
      "cell_type": "markdown",
      "metadata": {
        "id": "0zxQHhIUDF_2"
      },
      "source": [
        "## Obtenção dos Dados\n"
      ]
    },
    {
      "cell_type": "code",
      "metadata": {
        "id": "Vhp2wMPgJ6zX"
      },
      "source": [
        "# importar os pacotes necessarios\n",
        "import pandas as pd\n",
        "import matplotlib.pyplot as plt\n",
        "import seaborn as sns\n",
        "import numpy as np\n",
        "\n",
        "sns.set_theme(style=\"white\")\n"
      ],
      "execution_count": 1,
      "outputs": []
    },
    {
      "cell_type": "code",
      "metadata": {
        "id": "tUmoAT8DLQ5T"
      },
      "source": [
        "# importar o arquivo listings.csv para um DataFrame\n",
        "df = pd.read_csv('listings.csv');"
      ],
      "execution_count": 2,
      "outputs": []
    },
    {
      "cell_type": "markdown",
      "metadata": {
        "id": "qb5By2nIMS6m"
      },
      "source": [
        "## Análise dos Dados\n",
        "\n",
        "Todos os dados utilizados no presente estudo foram obtidos através do site [Inside airbnb](http://insideairbnb.com/get-the-data.html)\n",
        "\n",
        "Para esta análise exploratória inicial, iremos utilizar apenas o arquivo: \n",
        "\n",
        "* `listings.csv` - *Summary information and metrics for listings in Los Angeles.*"
      ]
    },
    {
      "cell_type": "code",
      "metadata": {
        "colab": {
          "base_uri": "https://localhost:8080/"
        },
        "id": "FRdEpSk04ukZ",
        "outputId": "70f63e3b-2e9b-4d8f-f212-f595528f67af"
      },
      "source": [
        "# Tipos de variáveis\n",
        "df.dtypes"
      ],
      "execution_count": 3,
      "outputs": [
        {
          "output_type": "execute_result",
          "data": {
            "text/plain": [
              "id                                  int64\n",
              "name                               object\n",
              "host_id                             int64\n",
              "host_name                          object\n",
              "neighbourhood_group                object\n",
              "neighbourhood                      object\n",
              "latitude                          float64\n",
              "longitude                         float64\n",
              "room_type                          object\n",
              "price                             float64\n",
              "minimum_nights                    float64\n",
              "number_of_reviews                 float64\n",
              "last_review                        object\n",
              "reviews_per_month                 float64\n",
              "calculated_host_listings_count    float64\n",
              "availability_365                  float64\n",
              "number_of_reviews_ltm             float64\n",
              "license                            object\n",
              "dtype: object"
            ]
          },
          "metadata": {},
          "execution_count": 3
        }
      ]
    },
    {
      "cell_type": "markdown",
      "metadata": {
        "id": "RYgvuebKNg8-"
      },
      "source": [
        "**Dicionário das variáveis**\n",
        "\n",
        "* `id` - Identificador único gerado que representa um imóvel\n",
        "* `name` - Nome ou apelido da propriedade anunciada\n",
        "* `host_id` - identificação do proprietário (anfitrião) do imóvel\n",
        "* `host_name` - Nome do proprietário (anfitrião) do imóvel\n",
        "* `neighbourhood_group` \n",
        "* `neighbourhood` - nome do bairro onde se encontra a propriedade\n",
        "* `latitude` - latitude da propriedade\n",
        "* `longitude` - longitude da propriedade\n",
        "* `room_type` - Tipo do imóvel anunciado\n",
        "* `price` - Valor do aluguel do imóvel\n",
        "* `minimum_nights` - Quantidade minima de noites para se reservar\n",
        "* `number_of_reviews` - Número de reviews realizados para o imóvel\n",
        "* `last_review` - Data do último review realizado\n",
        "* `reviews_per_month` - Quantidade de reviews realizados por mês\n",
        "* `calculated_host_listings_count` - Quantidade de imóveis do anfitrião\n",
        "* `availability_365` - Quantidade de dias disponíveis para alugar dentro do periodo de 365 dias (1 ano)\n",
        "* `number_of_reviews_ltm`\n",
        "* `license` - Licença da propriedade\n",
        "\n",
        "Antes de iniciar qualquer análise, vamos verificar a cara do nosso *dataset*, analisando as 5 primeiras entradas."
      ]
    },
    {
      "cell_type": "code",
      "metadata": {
        "id": "2iS_dae7YQtO",
        "colab": {
          "base_uri": "https://localhost:8080/",
          "height": 452
        },
        "outputId": "8fe5bd7d-fcfc-4f37-a5fa-5888af35e6e8"
      },
      "source": [
        "# mostrar as 5 primeiras entradas\n",
        "df.head()"
      ],
      "execution_count": 4,
      "outputs": [
        {
          "output_type": "execute_result",
          "data": {
            "text/html": [
              "<div>\n",
              "<style scoped>\n",
              "    .dataframe tbody tr th:only-of-type {\n",
              "        vertical-align: middle;\n",
              "    }\n",
              "\n",
              "    .dataframe tbody tr th {\n",
              "        vertical-align: top;\n",
              "    }\n",
              "\n",
              "    .dataframe thead th {\n",
              "        text-align: right;\n",
              "    }\n",
              "</style>\n",
              "<table border=\"1\" class=\"dataframe\">\n",
              "  <thead>\n",
              "    <tr style=\"text-align: right;\">\n",
              "      <th></th>\n",
              "      <th>id</th>\n",
              "      <th>name</th>\n",
              "      <th>host_id</th>\n",
              "      <th>host_name</th>\n",
              "      <th>neighbourhood_group</th>\n",
              "      <th>neighbourhood</th>\n",
              "      <th>latitude</th>\n",
              "      <th>longitude</th>\n",
              "      <th>room_type</th>\n",
              "      <th>price</th>\n",
              "      <th>minimum_nights</th>\n",
              "      <th>number_of_reviews</th>\n",
              "      <th>last_review</th>\n",
              "      <th>reviews_per_month</th>\n",
              "      <th>calculated_host_listings_count</th>\n",
              "      <th>availability_365</th>\n",
              "      <th>number_of_reviews_ltm</th>\n",
              "      <th>license</th>\n",
              "    </tr>\n",
              "  </thead>\n",
              "  <tbody>\n",
              "    <tr>\n",
              "      <th>0</th>\n",
              "      <td>109</td>\n",
              "      <td>Amazing bright elegant condo park front *UPGRA...</td>\n",
              "      <td>521</td>\n",
              "      <td>Paolo</td>\n",
              "      <td>Other Cities</td>\n",
              "      <td>Culver City</td>\n",
              "      <td>33.98301</td>\n",
              "      <td>-118.38607</td>\n",
              "      <td>Entire home/apt</td>\n",
              "      <td>115.0</td>\n",
              "      <td>30.0</td>\n",
              "      <td>2.0</td>\n",
              "      <td>2016-05-15</td>\n",
              "      <td>0.02</td>\n",
              "      <td>1.0</td>\n",
              "      <td>193.0</td>\n",
              "      <td>0.0</td>\n",
              "      <td>NaN</td>\n",
              "    </tr>\n",
              "    <tr>\n",
              "      <th>1</th>\n",
              "      <td>2708</td>\n",
              "      <td>Runyon Canyon | Beau Furn Mirror Mini-Suite Fi...</td>\n",
              "      <td>3008</td>\n",
              "      <td>Chas.</td>\n",
              "      <td>City of Los Angeles</td>\n",
              "      <td>Hollywood</td>\n",
              "      <td>34.09625</td>\n",
              "      <td>-118.34605</td>\n",
              "      <td>Private room</td>\n",
              "      <td>89.0</td>\n",
              "      <td>30.0</td>\n",
              "      <td>33.0</td>\n",
              "      <td>2021-11-01</td>\n",
              "      <td>0.70</td>\n",
              "      <td>2.0</td>\n",
              "      <td>300.0</td>\n",
              "      <td>6.0</td>\n",
              "      <td>NaN</td>\n",
              "    </tr>\n",
              "    <tr>\n",
              "      <th>2</th>\n",
              "      <td>2732</td>\n",
              "      <td>Zen Life at the Beach</td>\n",
              "      <td>3041</td>\n",
              "      <td>Yoga Priestess</td>\n",
              "      <td>Other Cities</td>\n",
              "      <td>Santa Monica</td>\n",
              "      <td>34.00440</td>\n",
              "      <td>-118.48095</td>\n",
              "      <td>Private room</td>\n",
              "      <td>167.0</td>\n",
              "      <td>7.0</td>\n",
              "      <td>21.0</td>\n",
              "      <td>2019-12-27</td>\n",
              "      <td>0.36</td>\n",
              "      <td>2.0</td>\n",
              "      <td>357.0</td>\n",
              "      <td>0.0</td>\n",
              "      <td>228269</td>\n",
              "    </tr>\n",
              "    <tr>\n",
              "      <th>3</th>\n",
              "      <td>2864</td>\n",
              "      <td>* Beautiful Master Suite/Jacuzzi Tub/*</td>\n",
              "      <td>3207</td>\n",
              "      <td>Bernadine</td>\n",
              "      <td>Other Cities</td>\n",
              "      <td>Bellflower</td>\n",
              "      <td>33.87490</td>\n",
              "      <td>-118.11515</td>\n",
              "      <td>Entire home/apt</td>\n",
              "      <td>50.0</td>\n",
              "      <td>30.0</td>\n",
              "      <td>0.0</td>\n",
              "      <td>NaN</td>\n",
              "      <td>NaN</td>\n",
              "      <td>1.0</td>\n",
              "      <td>0.0</td>\n",
              "      <td>0.0</td>\n",
              "      <td>NaN</td>\n",
              "    </tr>\n",
              "    <tr>\n",
              "      <th>4</th>\n",
              "      <td>3021</td>\n",
              "      <td>Hollywood Hills Zen Modern style Apt/Guesthouse</td>\n",
              "      <td>3415</td>\n",
              "      <td>Nataraj</td>\n",
              "      <td>City of Los Angeles</td>\n",
              "      <td>Hollywood Hills West</td>\n",
              "      <td>34.11160</td>\n",
              "      <td>-118.38223</td>\n",
              "      <td>Entire home/apt</td>\n",
              "      <td>118.0</td>\n",
              "      <td>31.0</td>\n",
              "      <td>23.0</td>\n",
              "      <td>2018-10-31</td>\n",
              "      <td>0.39</td>\n",
              "      <td>4.0</td>\n",
              "      <td>274.0</td>\n",
              "      <td>0.0</td>\n",
              "      <td>NaN</td>\n",
              "    </tr>\n",
              "  </tbody>\n",
              "</table>\n",
              "</div>"
            ],
            "text/plain": [
              "     id  ... license\n",
              "0   109  ...     NaN\n",
              "1  2708  ...     NaN\n",
              "2  2732  ...  228269\n",
              "3  2864  ...     NaN\n",
              "4  3021  ...     NaN\n",
              "\n",
              "[5 rows x 18 columns]"
            ]
          },
          "metadata": {},
          "execution_count": 4
        }
      ]
    },
    {
      "cell_type": "code",
      "metadata": {
        "colab": {
          "base_uri": "https://localhost:8080/"
        },
        "id": "DiIqYYlOrLcI",
        "outputId": "79859590-5304-49d5-9d7f-915c87eaed41"
      },
      "source": [
        "print('Bairros listados no dataset', len(df.neighbourhood.unique()),'\\n')\n",
        "df.neighbourhood.unique()"
      ],
      "execution_count": 5,
      "outputs": [
        {
          "output_type": "stream",
          "name": "stdout",
          "text": [
            "Bairros listados no dataset 225 \n",
            "\n"
          ]
        },
        {
          "output_type": "execute_result",
          "data": {
            "text/plain": [
              "array(['Culver City', 'Hollywood', 'Santa Monica', 'Bellflower',\n",
              "       'Hollywood Hills West', 'Del Rey', 'Atwater Village', 'Long Beach',\n",
              "       'Venice', 'Mid-Wilshire', 'Gardena', 'Hollywood Hills',\n",
              "       'Redondo Beach', 'Mid-City', 'Valley Village', 'Silver Lake',\n",
              "       'Highland Park', 'Mount Washington', 'West Los Angeles',\n",
              "       'Woodland Hills', 'Los Feliz', 'Malibu', 'Torrance',\n",
              "       'Jefferson Park', 'Studio City', 'Downtown', 'Van Nuys', 'Lynwood',\n",
              "       'East Hollywood', 'Glendale', 'Mar Vista', 'Beverly Hills',\n",
              "       'Pasadena', 'Carthay', 'Glassell Park', 'West Hollywood',\n",
              "       'La Mirada', 'Harvard Heights', 'Encino', 'Lakewood',\n",
              "       'Ladera Heights', 'North Hills', 'Tujunga', 'Westchester',\n",
              "       'Fairfax', 'Echo Park', 'Carson', 'North Hollywood', 'Altadena',\n",
              "       'Calabasas', 'Pacific Palisades', 'Valley Glen', 'Topanga',\n",
              "       'Sawtelle', 'Unincorporated Santa Monica Mountains',\n",
              "       'Elysian Valley', 'Palms', 'Pico-Robertson', 'Koreatown',\n",
              "       'San Pedro', 'Century City', 'Beverly Crest', 'Beverly Grove',\n",
              "       'Agua Dulce', 'Hermosa Beach', 'West Compton', 'Burbank',\n",
              "       'Arlington Heights', 'Leimert Park', 'Broadway-Manchester',\n",
              "       'View Park-Windsor Hills', 'El Segundo', 'Hancock Park',\n",
              "       'Rowland Heights', 'Sherman Oaks', 'South Pasadena',\n",
              "       'La Canada Flintridge', 'Manhattan Beach', 'Brentwood',\n",
              "       'Inglewood', 'Canoga Park', 'Eagle Rock', 'Lake Balboa',\n",
              "       'Larchmont', 'Rancho Park', 'Lincoln Heights', 'West Covina',\n",
              "       'Alhambra', 'Montebello', 'Monrovia', 'Westwood',\n",
              "       'Rolling Hills Estates', 'Winnetka', 'Whittier', 'Panorama City',\n",
              "       'Westlake', 'Playa del Rey', 'Agoura Hills', 'San Gabriel',\n",
              "       'Playa Vista', 'Lomita', 'Montecito Heights', 'West Adams',\n",
              "       'Reseda', 'Harbor City', 'West Hills', 'Palmdale', 'San Dimas',\n",
              "       'Baldwin Hills/Crenshaw', 'Sunland', 'Bel-Air',\n",
              "       'Rancho Palos Verdes', 'East Pasadena', 'Vermont Square',\n",
              "       'Hawthorne', 'Northridge', 'Marina del Rey', 'Beverlywood',\n",
              "       'Boyle Heights', 'San Fernando', 'University Park',\n",
              "       'Windsor Square', 'Cheviot Hills', 'Arcadia',\n",
              "       'Historic South-Central', 'El Sereno', 'Universal City',\n",
              "       'Hacienda Heights', 'Adams-Normandie', 'Granada Hills',\n",
              "       'East San Gabriel', 'West Carson', 'Santa Clarita', 'Lawndale',\n",
              "       'Lancaster', 'North Whittier', 'Downey', 'Industry',\n",
              "       'Castaic Canyons', 'Tarzana', 'Pico Rivera', 'Diamond Bar',\n",
              "       'Avalon', 'Monterey Park', 'Florence-Firestone', 'Exposition Park',\n",
              "       'Claremont', 'Sun Valley', 'El Monte', 'East Los Angeles',\n",
              "       'Veterans Administration', 'Athens', 'Hyde Park', 'Sierra Madre',\n",
              "       'Bell', 'Val Verde', 'Chatsworth', 'Azusa', 'Palos Verdes Estates',\n",
              "       'Sun Village', 'Sylmar', 'La Crescenta-Montrose', 'Compton',\n",
              "       'San Pasqual', 'Harbor Gateway', 'Cerritos', 'Willowbrook',\n",
              "       'Toluca Lake', 'Norwalk', 'Shadow Hills', 'Chinatown',\n",
              "       'Temple City', 'Westmont', 'Unincorporated Santa Susana Mountains',\n",
              "       'Glendora', 'Duarte', 'Walnut', 'Vincent', 'Griffith Park',\n",
              "       'La Habra Heights', 'La Verne', 'Arleta', 'South Gate', 'Del Aire',\n",
              "       'Angeles Crest', 'Northeast Antelope Valley', 'South San Gabriel',\n",
              "       'South Whittier', 'Pico-Union', 'Gramercy Park', 'La Puente',\n",
              "       'Mission Hills', 'Porter Ranch', 'Covina', 'Pomona', 'Rosemead',\n",
              "       'Stevenson Ranch', 'Alondra Park', 'San Marino', 'Baldwin Park',\n",
              "       'Lake View Terrace', 'Charter Oak', 'Green Meadows',\n",
              "       'Huntington Park', 'Lake Los Angeles', 'Elysian Park',\n",
              "       'Signal Hill', 'North El Monte', 'Southeast Antelope Valley',\n",
              "       'Bell Gardens', 'Castaic', 'Irwindale', 'Cypress Park',\n",
              "       'Santa Fe Springs', 'South Park', 'Rancho Dominguez',\n",
              "       'Desert View Highlands', 'Mayflower Village', 'Acton', 'Lennox',\n",
              "       'Paramount', 'Quartz Hill', 'Rolling Hills', 'West Puente Valley',\n",
              "       'Watts'], dtype=object)"
            ]
          },
          "metadata": {},
          "execution_count": 5
        }
      ]
    },
    {
      "cell_type": "markdown",
      "metadata": {
        "id": "6-B_qtEaYEd-"
      },
      "source": [
        "### **Q1. Quantos atributos (variáveis) e quantas entradas o nosso conjunto de dados possui? Quais os tipos das variáveis?**"
      ]
    },
    {
      "cell_type": "code",
      "metadata": {
        "id": "TFRK0tniLV-G",
        "colab": {
          "base_uri": "https://localhost:8080/"
        },
        "outputId": "e34194e9-0362-4536-9ff4-9de28217e98b"
      },
      "source": [
        "# identificar o volume de dados do DataFrame\n",
        "print('Quantidade de linhas (registros): \\t {}'.format(df.shape[0]))\n",
        "print('Quantidade de colunas (variáveis): \\t {}'.format(df.shape[1]))"
      ],
      "execution_count": 6,
      "outputs": [
        {
          "output_type": "stream",
          "name": "stdout",
          "text": [
            "Quantidade de linhas (registros): \t 6486\n",
            "Quantidade de colunas (variáveis): \t 18\n"
          ]
        }
      ]
    },
    {
      "cell_type": "markdown",
      "metadata": {
        "id": "yz1urSUGW9iE"
      },
      "source": [
        "### **Q2. Qual a porcentagem de valores ausentes no *dataset*?**"
      ]
    },
    {
      "cell_type": "code",
      "metadata": {
        "id": "plk2FjbCXOqP",
        "colab": {
          "base_uri": "https://localhost:8080/"
        },
        "outputId": "40ed0355-8589-4930-8204-ec0f7cf37bcf"
      },
      "source": [
        "# ordenar em ordem decrescente as variáveis por seus valores ausentes\n",
        "((df.isnull().sum() / df.shape[0]) * 100).sort_values(ascending=False)"
      ],
      "execution_count": 7,
      "outputs": [
        {
          "output_type": "execute_result",
          "data": {
            "text/plain": [
              "license                           74.483503\n",
              "reviews_per_month                 12.843047\n",
              "last_review                       12.843047\n",
              "host_name                          0.061671\n",
              "availability_365                   0.015418\n",
              "calculated_host_listings_count     0.015418\n",
              "number_of_reviews                  0.015418\n",
              "minimum_nights                     0.015418\n",
              "price                              0.015418\n",
              "number_of_reviews_ltm              0.015418\n",
              "neighbourhood_group                0.000000\n",
              "name                               0.000000\n",
              "host_id                            0.000000\n",
              "room_type                          0.000000\n",
              "neighbourhood                      0.000000\n",
              "latitude                           0.000000\n",
              "longitude                          0.000000\n",
              "id                                 0.000000\n",
              "dtype: float64"
            ]
          },
          "metadata": {},
          "execution_count": 7
        }
      ]
    },
    {
      "cell_type": "markdown",
      "metadata": {
        "id": "iHXvvHIxaoNc"
      },
      "source": [
        "### **Q3. Qual o tipo de distribuição das variáveis?** "
      ]
    },
    {
      "cell_type": "code",
      "metadata": {
        "id": "q2wWSfeRbmBo",
        "colab": {
          "base_uri": "https://localhost:8080/",
          "height": 610
        },
        "outputId": "e4c33b94-9ce2-4583-fa7d-513f0962811d"
      },
      "source": [
        "# plotar o histograma das variáveis numéricas\n",
        "df.hist(bins=20, figsize=(15,10));"
      ],
      "execution_count": 8,
      "outputs": [
        {
          "output_type": "display_data",
          "data": {
            "image/png": "[encoded data removed]",
            "text/plain": [
              "<Figure size 1080x720 with 12 Axes>"
            ]
          },
          "metadata": {
            "needs_background": "light"
          }
        }
      ]
    },
    {
      "cell_type": "code",
      "metadata": {
        "colab": {
          "base_uri": "https://localhost:8080/",
          "height": 300
        },
        "id": "f-H1OIpOcCWT",
        "outputId": "f7a58d56-cf04-4bf7-d950-4c5851be71e9"
      },
      "source": [
        "df[['price', 'minimum_nights', 'number_of_reviews', 'reviews_per_month',\n",
        "    'calculated_host_listings_count', 'availability_365']].describe()"
      ],
      "execution_count": 9,
      "outputs": [
        {
          "output_type": "execute_result",
          "data": {
            "text/html": [
              "<div>\n",
              "<style scoped>\n",
              "    .dataframe tbody tr th:only-of-type {\n",
              "        vertical-align: middle;\n",
              "    }\n",
              "\n",
              "    .dataframe tbody tr th {\n",
              "        vertical-align: top;\n",
              "    }\n",
              "\n",
              "    .dataframe thead th {\n",
              "        text-align: right;\n",
              "    }\n",
              "</style>\n",
              "<table border=\"1\" class=\"dataframe\">\n",
              "  <thead>\n",
              "    <tr style=\"text-align: right;\">\n",
              "      <th></th>\n",
              "      <th>price</th>\n",
              "      <th>minimum_nights</th>\n",
              "      <th>number_of_reviews</th>\n",
              "      <th>reviews_per_month</th>\n",
              "      <th>calculated_host_listings_count</th>\n",
              "      <th>availability_365</th>\n",
              "    </tr>\n",
              "  </thead>\n",
              "  <tbody>\n",
              "    <tr>\n",
              "      <th>count</th>\n",
              "      <td>6485.000000</td>\n",
              "      <td>6485.00000</td>\n",
              "      <td>6485.000000</td>\n",
              "      <td>5653.000000</td>\n",
              "      <td>6485.000000</td>\n",
              "      <td>6485.000000</td>\n",
              "    </tr>\n",
              "    <tr>\n",
              "      <th>mean</th>\n",
              "      <td>199.541249</td>\n",
              "      <td>23.51596</td>\n",
              "      <td>75.437008</td>\n",
              "      <td>1.582558</td>\n",
              "      <td>3.259676</td>\n",
              "      <td>159.162375</td>\n",
              "    </tr>\n",
              "    <tr>\n",
              "      <th>std</th>\n",
              "      <td>404.746380</td>\n",
              "      <td>35.73533</td>\n",
              "      <td>110.881684</td>\n",
              "      <td>2.977947</td>\n",
              "      <td>6.558058</td>\n",
              "      <td>145.206735</td>\n",
              "    </tr>\n",
              "    <tr>\n",
              "      <th>min</th>\n",
              "      <td>10.000000</td>\n",
              "      <td>1.00000</td>\n",
              "      <td>0.000000</td>\n",
              "      <td>0.010000</td>\n",
              "      <td>1.000000</td>\n",
              "      <td>0.000000</td>\n",
              "    </tr>\n",
              "    <tr>\n",
              "      <th>25%</th>\n",
              "      <td>76.000000</td>\n",
              "      <td>3.00000</td>\n",
              "      <td>4.000000</td>\n",
              "      <td>0.160000</td>\n",
              "      <td>1.000000</td>\n",
              "      <td>0.000000</td>\n",
              "    </tr>\n",
              "    <tr>\n",
              "      <th>50%</th>\n",
              "      <td>119.000000</td>\n",
              "      <td>30.00000</td>\n",
              "      <td>26.000000</td>\n",
              "      <td>0.670000</td>\n",
              "      <td>1.000000</td>\n",
              "      <td>132.000000</td>\n",
              "    </tr>\n",
              "    <tr>\n",
              "      <th>75%</th>\n",
              "      <td>195.000000</td>\n",
              "      <td>30.00000</td>\n",
              "      <td>104.000000</td>\n",
              "      <td>2.150000</td>\n",
              "      <td>3.000000</td>\n",
              "      <td>312.000000</td>\n",
              "    </tr>\n",
              "    <tr>\n",
              "      <th>max</th>\n",
              "      <td>10000.000000</td>\n",
              "      <td>1000.00000</td>\n",
              "      <td>941.000000</td>\n",
              "      <td>90.000000</td>\n",
              "      <td>108.000000</td>\n",
              "      <td>365.000000</td>\n",
              "    </tr>\n",
              "  </tbody>\n",
              "</table>\n",
              "</div>"
            ],
            "text/plain": [
              "              price  ...  availability_365\n",
              "count   6485.000000  ...       6485.000000\n",
              "mean     199.541249  ...        159.162375\n",
              "std      404.746380  ...        145.206735\n",
              "min       10.000000  ...          0.000000\n",
              "25%       76.000000  ...          0.000000\n",
              "50%      119.000000  ...        132.000000\n",
              "75%      195.000000  ...        312.000000\n",
              "max    10000.000000  ...        365.000000\n",
              "\n",
              "[8 rows x 6 columns]"
            ]
          },
          "metadata": {},
          "execution_count": 9
        }
      ]
    },
    {
      "cell_type": "markdown",
      "metadata": {
        "id": "lJdSSi90gOgb"
      },
      "source": [
        "#### Verificando outliers nas variáveis  `minimum_nights` e `price`\n",
        "\n",
        "A presente análise foi iniciada pelo motivo dos histogramas não estarem plotando uma distribuição normal das variáveis `minimum_nights` e `price`. Sendo assim, suspeitas de outliers foram geradas."
      ]
    },
    {
      "cell_type": "code",
      "metadata": {
        "colab": {
          "base_uri": "https://localhost:8080/",
          "height": 265
        },
        "id": "zXIzOKfwfqFO",
        "outputId": "7dfcdaa4-0338-4d0e-adba-d1ed30684307"
      },
      "source": [
        "df.price.plot(kind='box', vert=False, figsize=(15, 3))\n",
        "plt.show()\n",
        "\n",
        "# ver quantidade de valores acima de 350 price\n",
        "print(\"price: valores acima de 350\")\n",
        "print(\"{} entradas\".format(len(df[df.price > 350])))\n",
        "print(\"{:.4f}%\".format((len(df[df.price > 350]) / df.shape[0])*100))"
      ],
      "execution_count": 10,
      "outputs": [
        {
          "output_type": "display_data",
          "data": {
            "image/png": "[encoded data removed]",
            "text/plain": [
              "<Figure size 1080x216 with 1 Axes>"
            ]
          },
          "metadata": {
            "needs_background": "light"
          }
        },
        {
          "output_type": "stream",
          "name": "stdout",
          "text": [
            "price: valores acima de 350\n",
            "644 entradas\n",
            "9.9291%\n"
          ]
        }
      ]
    },
    {
      "cell_type": "code",
      "metadata": {
        "colab": {
          "base_uri": "https://localhost:8080/",
          "height": 265
        },
        "id": "zR1Zi1UPg-ct",
        "outputId": "86b67ff3-172a-4328-f92b-975128073416"
      },
      "source": [
        "df.minimum_nights.plot(kind='box', vert=False, figsize=(15, 3))\n",
        "plt.show()\n",
        "\n",
        "# ver quantidade de valores acima de 30 minimum_nights\n",
        "print(\"minimum_nights: valores acima de 50\")\n",
        "print(\"{} entradas\".format(len(df[df.minimum_nights > 50])))\n",
        "print(\"{:.4f}%\".format((len(df[df.minimum_nights > 50]) / df.shape[0])*100))"
      ],
      "execution_count": 11,
      "outputs": [
        {
          "output_type": "display_data",
          "data": {
            "image/png": "[encoded data removed]",
            "text/plain": [
              "<Figure size 1080x216 with 1 Axes>"
            ]
          },
          "metadata": {
            "needs_background": "light"
          }
        },
        {
          "output_type": "stream",
          "name": "stdout",
          "text": [
            "minimum_nights: valores acima de 50\n",
            "163 entradas\n",
            "2.5131%\n"
          ]
        }
      ]
    },
    {
      "cell_type": "markdown",
      "metadata": {
        "id": "73hqxARHnV4a"
      },
      "source": [
        "#### Conclusão sobre os outliers\n",
        "\n",
        "Percebemos que as variáveis `minimum_nights` e `price` possuem\n",
        "muitos outliers. Portanto, foi utilizado os quartis de 50% e 75% como base\n",
        "para  determinar o local de corte no dataset.\n",
        "\n",
        "Os resultados podes ser vistos abaixo."
      ]
    },
    {
      "cell_type": "markdown",
      "metadata": {
        "id": "Efz6VqqYT1px"
      },
      "source": [
        "#### Dataframe com outliers refinados\n",
        "\n",
        "Identificamos outliers nas variáveis `price` e `minimum_nights` através dos histogramas. Agora, limparemos superficialmente o DataFrame e plotar novamente o histograma.\n",
        "\n"
      ]
    },
    {
      "cell_type": "code",
      "metadata": {
        "colab": {
          "base_uri": "https://localhost:8080/",
          "height": 610
        },
        "id": "2W0miHkZQVVw",
        "outputId": "330260fa-8f1c-43fb-e036-e15cd3742354"
      },
      "source": [
        "df_no_outliers = df.copy()\n",
        "\n",
        "df_no_outliers.drop(df_no_outliers[df_no_outliers.price >= 350].index, axis=0, inplace=True)\n",
        "df_no_outliers.drop(df_no_outliers[df_no_outliers.minimum_nights > 50].index, axis=0, inplace=True)\n",
        "\n",
        "df_no_outliers.hist(bins=20, figsize=(15, 10));"
      ],
      "execution_count": 12,
      "outputs": [
        {
          "output_type": "display_data",
          "data": {
            "image/png": "[encoded data removed]",
            "text/plain": [
              "<Figure size 1080x720 with 12 Axes>"
            ]
          },
          "metadata": {
            "needs_background": "light"
          }
        }
      ]
    },
    {
      "cell_type": "code",
      "metadata": {
        "colab": {
          "base_uri": "https://localhost:8080/",
          "height": 320
        },
        "id": "Igl2SzcyK-KG",
        "outputId": "aa197944-8629-431f-adaf-6f2477ff5921"
      },
      "source": [
        "df_no_outliers.describe()"
      ],
      "execution_count": 13,
      "outputs": [
        {
          "output_type": "execute_result",
          "data": {
            "text/html": [
              "<div>\n",
              "<style scoped>\n",
              "    .dataframe tbody tr th:only-of-type {\n",
              "        vertical-align: middle;\n",
              "    }\n",
              "\n",
              "    .dataframe tbody tr th {\n",
              "        vertical-align: top;\n",
              "    }\n",
              "\n",
              "    .dataframe thead th {\n",
              "        text-align: right;\n",
              "    }\n",
              "</style>\n",
              "<table border=\"1\" class=\"dataframe\">\n",
              "  <thead>\n",
              "    <tr style=\"text-align: right;\">\n",
              "      <th></th>\n",
              "      <th>id</th>\n",
              "      <th>host_id</th>\n",
              "      <th>latitude</th>\n",
              "      <th>longitude</th>\n",
              "      <th>price</th>\n",
              "      <th>minimum_nights</th>\n",
              "      <th>number_of_reviews</th>\n",
              "      <th>reviews_per_month</th>\n",
              "      <th>calculated_host_listings_count</th>\n",
              "      <th>availability_365</th>\n",
              "      <th>number_of_reviews_ltm</th>\n",
              "    </tr>\n",
              "  </thead>\n",
              "  <tbody>\n",
              "    <tr>\n",
              "      <th>count</th>\n",
              "      <td>5.654000e+03</td>\n",
              "      <td>5.654000e+03</td>\n",
              "      <td>5654.000000</td>\n",
              "      <td>5654.000000</td>\n",
              "      <td>5653.000000</td>\n",
              "      <td>5653.000000</td>\n",
              "      <td>5653.000000</td>\n",
              "      <td>4967.000000</td>\n",
              "      <td>5653.000000</td>\n",
              "      <td>5653.000000</td>\n",
              "      <td>5653.000000</td>\n",
              "    </tr>\n",
              "    <tr>\n",
              "      <th>mean</th>\n",
              "      <td>7.341428e+06</td>\n",
              "      <td>2.500565e+07</td>\n",
              "      <td>34.054302</td>\n",
              "      <td>-118.337086</td>\n",
              "      <td>124.760835</td>\n",
              "      <td>20.351495</td>\n",
              "      <td>79.938617</td>\n",
              "      <td>1.644719</td>\n",
              "      <td>3.323014</td>\n",
              "      <td>153.769149</td>\n",
              "      <td>6.603396</td>\n",
              "    </tr>\n",
              "    <tr>\n",
              "      <th>std</th>\n",
              "      <td>4.645307e+06</td>\n",
              "      <td>2.850374e+07</td>\n",
              "      <td>0.110264</td>\n",
              "      <td>0.146511</td>\n",
              "      <td>69.334204</td>\n",
              "      <td>13.169700</td>\n",
              "      <td>115.232431</td>\n",
              "      <td>3.030927</td>\n",
              "      <td>6.650061</td>\n",
              "      <td>144.670864</td>\n",
              "      <td>15.493571</td>\n",
              "    </tr>\n",
              "    <tr>\n",
              "      <th>min</th>\n",
              "      <td>1.090000e+02</td>\n",
              "      <td>5.210000e+02</td>\n",
              "      <td>33.340120</td>\n",
              "      <td>-118.911200</td>\n",
              "      <td>10.000000</td>\n",
              "      <td>1.000000</td>\n",
              "      <td>0.000000</td>\n",
              "      <td>0.010000</td>\n",
              "      <td>1.000000</td>\n",
              "      <td>0.000000</td>\n",
              "      <td>0.000000</td>\n",
              "    </tr>\n",
              "    <tr>\n",
              "      <th>25%</th>\n",
              "      <td>3.184836e+06</td>\n",
              "      <td>4.982250e+06</td>\n",
              "      <td>34.002502</td>\n",
              "      <td>-118.433910</td>\n",
              "      <td>75.000000</td>\n",
              "      <td>3.000000</td>\n",
              "      <td>4.000000</td>\n",
              "      <td>0.170000</td>\n",
              "      <td>1.000000</td>\n",
              "      <td>0.000000</td>\n",
              "      <td>0.000000</td>\n",
              "    </tr>\n",
              "    <tr>\n",
              "      <th>50%</th>\n",
              "      <td>7.345740e+06</td>\n",
              "      <td>1.572736e+07</td>\n",
              "      <td>34.067595</td>\n",
              "      <td>-118.352750</td>\n",
              "      <td>106.000000</td>\n",
              "      <td>30.000000</td>\n",
              "      <td>29.000000</td>\n",
              "      <td>0.720000</td>\n",
              "      <td>1.000000</td>\n",
              "      <td>121.000000</td>\n",
              "      <td>0.000000</td>\n",
              "    </tr>\n",
              "    <tr>\n",
              "      <th>75%</th>\n",
              "      <td>1.157509e+07</td>\n",
              "      <td>3.779146e+07</td>\n",
              "      <td>34.106472</td>\n",
              "      <td>-118.269435</td>\n",
              "      <td>159.000000</td>\n",
              "      <td>30.000000</td>\n",
              "      <td>111.000000</td>\n",
              "      <td>2.290000</td>\n",
              "      <td>3.000000</td>\n",
              "      <td>306.000000</td>\n",
              "      <td>4.000000</td>\n",
              "    </tr>\n",
              "    <tr>\n",
              "      <th>max</th>\n",
              "      <td>1.517355e+07</td>\n",
              "      <td>4.181502e+08</td>\n",
              "      <td>34.709720</td>\n",
              "      <td>-117.655470</td>\n",
              "      <td>349.000000</td>\n",
              "      <td>50.000000</td>\n",
              "      <td>941.000000</td>\n",
              "      <td>90.000000</td>\n",
              "      <td>108.000000</td>\n",
              "      <td>365.000000</td>\n",
              "      <td>181.000000</td>\n",
              "    </tr>\n",
              "  </tbody>\n",
              "</table>\n",
              "</div>"
            ],
            "text/plain": [
              "                 id       host_id  ...  availability_365  number_of_reviews_ltm\n",
              "count  5.654000e+03  5.654000e+03  ...       5653.000000            5653.000000\n",
              "mean   7.341428e+06  2.500565e+07  ...        153.769149               6.603396\n",
              "std    4.645307e+06  2.850374e+07  ...        144.670864              15.493571\n",
              "min    1.090000e+02  5.210000e+02  ...          0.000000               0.000000\n",
              "25%    3.184836e+06  4.982250e+06  ...          0.000000               0.000000\n",
              "50%    7.345740e+06  1.572736e+07  ...        121.000000               0.000000\n",
              "75%    1.157509e+07  3.779146e+07  ...        306.000000               4.000000\n",
              "max    1.517355e+07  4.181502e+08  ...        365.000000             181.000000\n",
              "\n",
              "[8 rows x 11 columns]"
            ]
          },
          "metadata": {},
          "execution_count": 13
        }
      ]
    },
    {
      "cell_type": "code",
      "metadata": {
        "colab": {
          "base_uri": "https://localhost:8080/",
          "height": 213
        },
        "id": "4ZEbXylLQsB-",
        "outputId": "19fbff98-a58b-4d88-8007-8b6c9baf9eb9"
      },
      "source": [
        "df_no_outliers.price.plot(kind='box', vert=False, figsize=(15, 3))\n",
        "plt.show()"
      ],
      "execution_count": 14,
      "outputs": [
        {
          "output_type": "display_data",
          "data": {
            "image/png": "[encoded data removed]",
            "text/plain": [
              "<Figure size 1080x216 with 1 Axes>"
            ]
          },
          "metadata": {
            "needs_background": "light"
          }
        }
      ]
    },
    {
      "cell_type": "code",
      "metadata": {
        "colab": {
          "base_uri": "https://localhost:8080/",
          "height": 213
        },
        "id": "cbOOvLkeWPIj",
        "outputId": "9a7d0de5-a804-418b-b83b-e112c2bc0966"
      },
      "source": [
        "df_no_outliers.minimum_nights.plot(kind='box', vert=False, figsize=(15, 3))\n",
        "plt.show()"
      ],
      "execution_count": 15,
      "outputs": [
        {
          "output_type": "display_data",
          "data": {
            "image/png": "[encoded data removed]",
            "text/plain": [
              "<Figure size 1080x216 with 1 Axes>"
            ]
          },
          "metadata": {
            "needs_background": "light"
          }
        }
      ]
    },
    {
      "cell_type": "markdown",
      "metadata": {
        "id": "7x4aw1j5wNmn"
      },
      "source": [
        "### **Q4. Qual a média dos preços de aluguel?**"
      ]
    },
    {
      "cell_type": "code",
      "metadata": {
        "id": "ff-8gUahLk-C",
        "colab": {
          "base_uri": "https://localhost:8080/"
        },
        "outputId": "93269c52-3120-4831-d009-18a6eee2f719"
      },
      "source": [
        "# ver a média da coluna `price``\n",
        "print(\"Média da coluna price do dataset com outliers {:.2f}\"\n",
        "  .format(df.price.mean()))\n",
        "\n",
        "print(\"Média da coluna price do dataset com outliers reduzidos {:.2f}\"\n",
        "  .format(df_no_outliers.price.mean()))\n"
      ],
      "execution_count": 16,
      "outputs": [
        {
          "output_type": "stream",
          "name": "stdout",
          "text": [
            "Média da coluna price do dataset com outliers 199.54\n",
            "Média da coluna price do dataset com outliers reduzidos 124.76\n"
          ]
        }
      ]
    },
    {
      "cell_type": "markdown",
      "metadata": {
        "id": "IXn2oIo5qx-w"
      },
      "source": [
        "### **Q4. Qual a correlação existente entre as variáveis**"
      ]
    },
    {
      "cell_type": "code",
      "metadata": {
        "id": "x2ayzBajqxyd",
        "colab": {
          "base_uri": "https://localhost:8080/",
          "height": 238
        },
        "outputId": "5c4257cd-e491-4b6a-cad8-25929140cc13"
      },
      "source": [
        "corr = df_no_outliers[['price', 'minimum_nights', 'number_of_reviews', 'reviews_per_month',\n",
        "    'calculated_host_listings_count', 'availability_365']].corr()\n",
        "\n",
        "display(corr)"
      ],
      "execution_count": 17,
      "outputs": [
        {
          "output_type": "display_data",
          "data": {
            "text/html": [
              "<div>\n",
              "<style scoped>\n",
              "    .dataframe tbody tr th:only-of-type {\n",
              "        vertical-align: middle;\n",
              "    }\n",
              "\n",
              "    .dataframe tbody tr th {\n",
              "        vertical-align: top;\n",
              "    }\n",
              "\n",
              "    .dataframe thead th {\n",
              "        text-align: right;\n",
              "    }\n",
              "</style>\n",
              "<table border=\"1\" class=\"dataframe\">\n",
              "  <thead>\n",
              "    <tr style=\"text-align: right;\">\n",
              "      <th></th>\n",
              "      <th>price</th>\n",
              "      <th>minimum_nights</th>\n",
              "      <th>number_of_reviews</th>\n",
              "      <th>reviews_per_month</th>\n",
              "      <th>calculated_host_listings_count</th>\n",
              "      <th>availability_365</th>\n",
              "    </tr>\n",
              "  </thead>\n",
              "  <tbody>\n",
              "    <tr>\n",
              "      <th>price</th>\n",
              "      <td>1.000000</td>\n",
              "      <td>-0.070026</td>\n",
              "      <td>0.031181</td>\n",
              "      <td>0.022667</td>\n",
              "      <td>-0.000037</td>\n",
              "      <td>0.096118</td>\n",
              "    </tr>\n",
              "    <tr>\n",
              "      <th>minimum_nights</th>\n",
              "      <td>-0.070026</td>\n",
              "      <td>1.000000</td>\n",
              "      <td>-0.263545</td>\n",
              "      <td>-0.245987</td>\n",
              "      <td>0.113144</td>\n",
              "      <td>0.029546</td>\n",
              "    </tr>\n",
              "    <tr>\n",
              "      <th>number_of_reviews</th>\n",
              "      <td>0.031181</td>\n",
              "      <td>-0.263545</td>\n",
              "      <td>1.000000</td>\n",
              "      <td>0.553880</td>\n",
              "      <td>-0.024681</td>\n",
              "      <td>0.155855</td>\n",
              "    </tr>\n",
              "    <tr>\n",
              "      <th>reviews_per_month</th>\n",
              "      <td>0.022667</td>\n",
              "      <td>-0.245987</td>\n",
              "      <td>0.553880</td>\n",
              "      <td>1.000000</td>\n",
              "      <td>-0.046077</td>\n",
              "      <td>0.087298</td>\n",
              "    </tr>\n",
              "    <tr>\n",
              "      <th>calculated_host_listings_count</th>\n",
              "      <td>-0.000037</td>\n",
              "      <td>0.113144</td>\n",
              "      <td>-0.024681</td>\n",
              "      <td>-0.046077</td>\n",
              "      <td>1.000000</td>\n",
              "      <td>0.213235</td>\n",
              "    </tr>\n",
              "    <tr>\n",
              "      <th>availability_365</th>\n",
              "      <td>0.096118</td>\n",
              "      <td>0.029546</td>\n",
              "      <td>0.155855</td>\n",
              "      <td>0.087298</td>\n",
              "      <td>0.213235</td>\n",
              "      <td>1.000000</td>\n",
              "    </tr>\n",
              "  </tbody>\n",
              "</table>\n",
              "</div>"
            ],
            "text/plain": [
              "                                   price  ...  availability_365\n",
              "price                           1.000000  ...          0.096118\n",
              "minimum_nights                 -0.070026  ...          0.029546\n",
              "number_of_reviews               0.031181  ...          0.155855\n",
              "reviews_per_month               0.022667  ...          0.087298\n",
              "calculated_host_listings_count -0.000037  ...          0.213235\n",
              "availability_365                0.096118  ...          1.000000\n",
              "\n",
              "[6 rows x 6 columns]"
            ]
          },
          "metadata": {}
        }
      ]
    },
    {
      "cell_type": "code",
      "metadata": {
        "id": "91UujDr6ueqE",
        "colab": {
          "base_uri": "https://localhost:8080/",
          "height": 430
        },
        "outputId": "bb186eee-1bde-42bd-8ccf-b8e6933cf66f"
      },
      "source": [
        "# plotar um heatmap a partir das correlações\n",
        "cmap = sns.diverging_palette(240, 10, n=9)\n",
        "sns.heatmap(corr, cmap=cmap, fmt='.2f', square=True, annot=True);"
      ],
      "execution_count": 18,
      "outputs": [
        {
          "output_type": "display_data",
          "data": {
            "image/png": "[encoded data removed]",
            "text/plain": [
              "<Figure size 432x288 with 2 Axes>"
            ]
          },
          "metadata": {
            "needs_background": "light"
          }
        }
      ]
    },
    {
      "cell_type": "markdown",
      "metadata": {
        "id": "LW_F2NVnjKSU"
      },
      "source": [
        "#### Conclusão sobre a correlação das variáveis\n",
        "\n",
        "Percebemos que às variáveis do dataset são correlatas negativamente. Portanto,\n",
        "elas não possuem relações diretas entre si.\n"
      ]
    },
    {
      "cell_type": "markdown",
      "metadata": {
        "id": "7b6RMWpuHKN-"
      },
      "source": [
        "### **Q5. Qual o tipo de imóvel mais alugado no Airbnb?**"
      ]
    },
    {
      "cell_type": "code",
      "metadata": {
        "id": "ueLPNWvPHgfB",
        "colab": {
          "base_uri": "https://localhost:8080/",
          "height": 206
        },
        "outputId": "8a16aef8-6686-422b-b6c0-b748456db0e8"
      },
      "source": [
        "# Preparação dos dados para o dataframe\n",
        "rooms_types = df_no_outliers.room_type.unique()\n",
        "value_counts = pd.value_counts(\n",
        "  df_no_outliers.room_type    \n",
        ")\n",
        "\n",
        "percentage = (df_no_outliers.room_type.value_counts() / df_no_outliers.shape[0]) * 100\n",
        "\n",
        "# mostrar a quantidade de cada tipo de imóvel disponível\n",
        "rooms_type_amount = pd.DataFrame(\n",
        "    {\n",
        "        'rooms_types': rooms_types, 'amount': value_counts.array,\n",
        "        'percentage': np.round(percentage.array, decimals=2)\n",
        "    }, index=[0,1,2,3,4]\n",
        "    \n",
        ")\n",
        "\n",
        "rooms_type_amount"
      ],
      "execution_count": 19,
      "outputs": [
        {
          "output_type": "execute_result",
          "data": {
            "text/html": [
              "<div>\n",
              "<style scoped>\n",
              "    .dataframe tbody tr th:only-of-type {\n",
              "        vertical-align: middle;\n",
              "    }\n",
              "\n",
              "    .dataframe tbody tr th {\n",
              "        vertical-align: top;\n",
              "    }\n",
              "\n",
              "    .dataframe thead th {\n",
              "        text-align: right;\n",
              "    }\n",
              "</style>\n",
              "<table border=\"1\" class=\"dataframe\">\n",
              "  <thead>\n",
              "    <tr style=\"text-align: right;\">\n",
              "      <th></th>\n",
              "      <th>rooms_types</th>\n",
              "      <th>amount</th>\n",
              "      <th>percentage</th>\n",
              "    </tr>\n",
              "  </thead>\n",
              "  <tbody>\n",
              "    <tr>\n",
              "      <th>0</th>\n",
              "      <td>Entire home/apt</td>\n",
              "      <td>3534</td>\n",
              "      <td>62.50</td>\n",
              "    </tr>\n",
              "    <tr>\n",
              "      <th>1</th>\n",
              "      <td>Private room</td>\n",
              "      <td>1971</td>\n",
              "      <td>34.86</td>\n",
              "    </tr>\n",
              "    <tr>\n",
              "      <th>2</th>\n",
              "      <td>Hotel room</td>\n",
              "      <td>142</td>\n",
              "      <td>2.51</td>\n",
              "    </tr>\n",
              "    <tr>\n",
              "      <th>3</th>\n",
              "      <td>Shared room</td>\n",
              "      <td>6</td>\n",
              "      <td>0.11</td>\n",
              "    </tr>\n",
              "    <tr>\n",
              "      <th>4</th>\n",
              "      <td>Entire</td>\n",
              "      <td>1</td>\n",
              "      <td>0.02</td>\n",
              "    </tr>\n",
              "  </tbody>\n",
              "</table>\n",
              "</div>"
            ],
            "text/plain": [
              "       rooms_types  amount  percentage\n",
              "0  Entire home/apt    3534       62.50\n",
              "1     Private room    1971       34.86\n",
              "2       Hotel room     142        2.51\n",
              "3      Shared room       6        0.11\n",
              "4          Entire        1        0.02"
            ]
          },
          "metadata": {},
          "execution_count": 19
        }
      ]
    },
    {
      "cell_type": "code",
      "metadata": {
        "colab": {
          "base_uri": "https://localhost:8080/",
          "height": 339
        },
        "id": "cb51XsH8q94G",
        "outputId": "88f3bc5c-1eb9-4402-c7f6-8e71042780c3"
      },
      "source": [
        "fig_dims = (10, 5)\n",
        "_, ax = plt.subplots(figsize=fig_dims)\n",
        "\n",
        "sns.histplot(data=df_no_outliers, y=\"room_type\", ax=ax, bins=15);"
      ],
      "execution_count": 20,
      "outputs": [
        {
          "output_type": "display_data",
          "data": {
            "image/png": "[encoded data removed]",
            "text/plain": [
              "<Figure size 720x360 with 1 Axes>"
            ]
          },
          "metadata": {
            "needs_background": "light"
          }
        }
      ]
    },
    {
      "cell_type": "markdown",
      "metadata": {
        "id": "uc-NJBfjAMYM"
      },
      "source": [
        "### **Q6. Qual é o bairro mais caro no dataset**\n"
      ]
    },
    {
      "cell_type": "code",
      "metadata": {
        "id": "MD_xa143JZpi",
        "colab": {
          "base_uri": "https://localhost:8080/",
          "height": 238
        },
        "outputId": "e2c08d72-5f8b-4dea-fde4-f9471d909597"
      },
      "source": [
        "# ver preços por bairros, na média\n",
        "data_grouped_by_neighbourhood_price = df_no_outliers.groupby(['neighbourhood']).price.mean().sort_values(ascending=False)\n",
        "\n",
        "df_neighbourhood_higher_pricing = pd.DataFrame(\n",
        "    data_grouped_by_neighbourhood_price[:5]\n",
        ")\n",
        "df_neighbourhood_higher_pricing.rename({'price': 'average_price'}, axis=1, inplace=True)\n",
        "df_neighbourhood_higher_pricing.average_price = np.round(df_neighbourhood_higher_pricing.average_price, decimals= 2)\n",
        "\n",
        "df_neighbourhood_higher_pricing"
      ],
      "execution_count": 21,
      "outputs": [
        {
          "output_type": "execute_result",
          "data": {
            "text/html": [
              "<div>\n",
              "<style scoped>\n",
              "    .dataframe tbody tr th:only-of-type {\n",
              "        vertical-align: middle;\n",
              "    }\n",
              "\n",
              "    .dataframe tbody tr th {\n",
              "        vertical-align: top;\n",
              "    }\n",
              "\n",
              "    .dataframe thead th {\n",
              "        text-align: right;\n",
              "    }\n",
              "</style>\n",
              "<table border=\"1\" class=\"dataframe\">\n",
              "  <thead>\n",
              "    <tr style=\"text-align: right;\">\n",
              "      <th></th>\n",
              "      <th>average_price</th>\n",
              "    </tr>\n",
              "    <tr>\n",
              "      <th>neighbourhood</th>\n",
              "      <th></th>\n",
              "    </tr>\n",
              "  </thead>\n",
              "  <tbody>\n",
              "    <tr>\n",
              "      <th>Palos Verdes Estates</th>\n",
              "      <td>276.50</td>\n",
              "    </tr>\n",
              "    <tr>\n",
              "      <th>Avalon</th>\n",
              "      <td>264.00</td>\n",
              "    </tr>\n",
              "    <tr>\n",
              "      <th>Rolling Hills Estates</th>\n",
              "      <td>236.00</td>\n",
              "    </tr>\n",
              "    <tr>\n",
              "      <th>Mission Hills</th>\n",
              "      <td>229.00</td>\n",
              "    </tr>\n",
              "    <tr>\n",
              "      <th>Malibu</th>\n",
              "      <td>223.17</td>\n",
              "    </tr>\n",
              "  </tbody>\n",
              "</table>\n",
              "</div>"
            ],
            "text/plain": [
              "                       average_price\n",
              "neighbourhood                       \n",
              "Palos Verdes Estates          276.50\n",
              "Avalon                        264.00\n",
              "Rolling Hills Estates         236.00\n",
              "Mission Hills                 229.00\n",
              "Malibu                        223.17"
            ]
          },
          "metadata": {},
          "execution_count": 21
        }
      ]
    },
    {
      "cell_type": "code",
      "metadata": {
        "id": "UxVJqJ_3W59I",
        "colab": {
          "base_uri": "https://localhost:8080/",
          "height": 356
        },
        "outputId": "a7148e07-060a-49cf-9831-fbcfaddfc154"
      },
      "source": [
        "fig_dims = (10, 5)\n",
        "plt.subplots(figsize=fig_dims)\n",
        "\n",
        "sns.barplot(data=df_neighbourhood_higher_pricing,\n",
        "             x=df_neighbourhood_higher_pricing.index, \n",
        "             y=\"average_price\")"
      ],
      "execution_count": 22,
      "outputs": [
        {
          "output_type": "execute_result",
          "data": {
            "text/plain": [
              "<matplotlib.axes._subplots.AxesSubplot at 0x7fc6bdda59d0>"
            ]
          },
          "metadata": {},
          "execution_count": 22
        },
        {
          "output_type": "display_data",
          "data": {
            "image/png": "[encoded data removed]",
            "text/plain": [
              "<Figure size 720x360 with 1 Axes>"
            ]
          },
          "metadata": {
            "needs_background": "light"
          }
        }
      ]
    },
    {
      "cell_type": "markdown",
      "metadata": {
        "id": "BLA4DwwrBaYP"
      },
      "source": [
        "#### Conclusão\n",
        "\n",
        "Após a análise realizada sobre bairros mais caros de Los Angeles, constatamos que o bairro mais caro é o `Palos Verdes Estates` com uma média de preço de $ 276.50"
      ]
    },
    {
      "cell_type": "markdown",
      "metadata": {
        "id": "W6vyzNLzCfSh"
      },
      "source": [
        "### **Q7. Qual é o bairro mais barato no dataset?**"
      ]
    },
    {
      "cell_type": "code",
      "metadata": {
        "colab": {
          "base_uri": "https://localhost:8080/",
          "height": 238
        },
        "id": "iXCqTYXMCVU8",
        "outputId": "e6a363b4-dd0b-4c9a-c4e1-afa68ad29f5b"
      },
      "source": [
        "low_price_neighbourhood = data_grouped_by_neighbourhood_price[data_grouped_by_neighbourhood_price.shape[0] - 5 : data_grouped_by_neighbourhood_price.shape[0]]\n",
        "\n",
        "df_neighbourhood_low_pricing = pd.DataFrame(\n",
        "    low_price_neighbourhood\n",
        ")\n",
        "\n",
        "df_neighbourhood_low_pricing.rename({'price': 'average_price'}, axis=1, inplace=True)\n",
        "df_neighbourhood_low_pricing.average_price = np.round(df_neighbourhood_low_pricing.average_price, decimals= 2)\n",
        "\n",
        "df_neighbourhood_low_pricing"
      ],
      "execution_count": 23,
      "outputs": [
        {
          "output_type": "execute_result",
          "data": {
            "text/html": [
              "<div>\n",
              "<style scoped>\n",
              "    .dataframe tbody tr th:only-of-type {\n",
              "        vertical-align: middle;\n",
              "    }\n",
              "\n",
              "    .dataframe tbody tr th {\n",
              "        vertical-align: top;\n",
              "    }\n",
              "\n",
              "    .dataframe thead th {\n",
              "        text-align: right;\n",
              "    }\n",
              "</style>\n",
              "<table border=\"1\" class=\"dataframe\">\n",
              "  <thead>\n",
              "    <tr style=\"text-align: right;\">\n",
              "      <th></th>\n",
              "      <th>average_price</th>\n",
              "    </tr>\n",
              "    <tr>\n",
              "      <th>neighbourhood</th>\n",
              "      <th></th>\n",
              "    </tr>\n",
              "  </thead>\n",
              "  <tbody>\n",
              "    <tr>\n",
              "      <th>Lake Los Angeles</th>\n",
              "      <td>37.0</td>\n",
              "    </tr>\n",
              "    <tr>\n",
              "      <th>La Mirada</th>\n",
              "      <td>33.0</td>\n",
              "    </tr>\n",
              "    <tr>\n",
              "      <th>Willowbrook</th>\n",
              "      <td>30.0</td>\n",
              "    </tr>\n",
              "    <tr>\n",
              "      <th>Huntington Park</th>\n",
              "      <td>19.0</td>\n",
              "    </tr>\n",
              "    <tr>\n",
              "      <th>Watts</th>\n",
              "      <td>17.0</td>\n",
              "    </tr>\n",
              "  </tbody>\n",
              "</table>\n",
              "</div>"
            ],
            "text/plain": [
              "                  average_price\n",
              "neighbourhood                  \n",
              "Lake Los Angeles           37.0\n",
              "La Mirada                  33.0\n",
              "Willowbrook                30.0\n",
              "Huntington Park            19.0\n",
              "Watts                      17.0"
            ]
          },
          "metadata": {},
          "execution_count": 23
        }
      ]
    },
    {
      "cell_type": "code",
      "metadata": {
        "colab": {
          "base_uri": "https://localhost:8080/",
          "height": 356
        },
        "id": "qRxMWAQiIyQW",
        "outputId": "509db7dd-38e4-47da-9851-e13a236945e4"
      },
      "source": [
        "fig_dims = (10, 5)\n",
        "plt.subplots(figsize=fig_dims)\n",
        "\n",
        "sns.barplot(data=df_neighbourhood_low_pricing,\n",
        "             x=df_neighbourhood_low_pricing.index, \n",
        "             y=\"average_price\")"
      ],
      "execution_count": 24,
      "outputs": [
        {
          "output_type": "execute_result",
          "data": {
            "text/plain": [
              "<matplotlib.axes._subplots.AxesSubplot at 0x7fc6bda4d750>"
            ]
          },
          "metadata": {},
          "execution_count": 24
        },
        {
          "output_type": "display_data",
          "data": {
            "image/png": "[encoded data removed]",
            "text/plain": [
              "<Figure size 720x360 with 1 Axes>"
            ]
          },
          "metadata": {
            "needs_background": "light"
          }
        }
      ]
    },
    {
      "cell_type": "markdown",
      "metadata": {
        "id": "opc9wuSzIl5x"
      },
      "source": [
        "#### Conclusão\n",
        "\n",
        "Após a análise realizada sobre bairros mais baratos de Los Angeles, constatamos que o bairro mais barato é o `Watts` com uma média de preço de $ 17"
      ]
    },
    {
      "cell_type": "markdown",
      "metadata": {
        "id": "v1h2HtliLaOi"
      },
      "source": [
        "### **Q8. Plotar os imóveis pela latitude-longitude**"
      ]
    },
    {
      "cell_type": "code",
      "metadata": {
        "colab": {
          "base_uri": "https://localhost:8080/",
          "height": 466
        },
        "id": "3eHvUKDkLhr6",
        "outputId": "52fe15bd-8145-4691-d005-f629aea242f8"
      },
      "source": [
        "df_no_outliers.plot(kind=\"scatter\", x='longitude', y='latitude', alpha=0.4, \n",
        "              c=df_no_outliers['price'], s=8,\n",
        "              cmap=plt.get_cmap('jet'), figsize=(12,8));"
      ],
      "execution_count": 25,
      "outputs": [
        {
          "output_type": "display_data",
          "data": {
            "image/png": "[encoded data removed]",
            "text/plain": [
              "<Figure size 864x576 with 2 Axes>"
            ]
          },
          "metadata": {
            "needs_background": "light"
          }
        }
      ]
    },
    {
      "cell_type": "markdown",
      "metadata": {
        "id": "0CeHY4jwQUET"
      },
      "source": [
        "### **Q9. Qual é o bairro mais engajado com reviews mensais?**"
      ]
    },
    {
      "cell_type": "code",
      "metadata": {
        "id": "0bh36_FXs4nu"
      },
      "source": [
        "data_grouped_by_neighbourhood = df_no_outliers.groupby(['neighbourhood'])"
      ],
      "execution_count": 26,
      "outputs": []
    },
    {
      "cell_type": "code",
      "metadata": {
        "colab": {
          "base_uri": "https://localhost:8080/",
          "height": 394
        },
        "id": "qGRMxH7FOlds",
        "outputId": "a701f16b-ad07-427d-9364-3f949ef0aa2f"
      },
      "source": [
        "reviews_per_month = data_grouped_by_neighbourhood.reviews_per_month.mean().sort_values(ascending=False)\n",
        "\n",
        "df_reviews_per_month = pd.DataFrame(\n",
        "    reviews_per_month\n",
        ")\n",
        "\n",
        "df_reviews_per_month.head(10)"
      ],
      "execution_count": 27,
      "outputs": [
        {
          "output_type": "execute_result",
          "data": {
            "text/html": [
              "<div>\n",
              "<style scoped>\n",
              "    .dataframe tbody tr th:only-of-type {\n",
              "        vertical-align: middle;\n",
              "    }\n",
              "\n",
              "    .dataframe tbody tr th {\n",
              "        vertical-align: top;\n",
              "    }\n",
              "\n",
              "    .dataframe thead th {\n",
              "        text-align: right;\n",
              "    }\n",
              "</style>\n",
              "<table border=\"1\" class=\"dataframe\">\n",
              "  <thead>\n",
              "    <tr style=\"text-align: right;\">\n",
              "      <th></th>\n",
              "      <th>reviews_per_month</th>\n",
              "    </tr>\n",
              "    <tr>\n",
              "      <th>neighbourhood</th>\n",
              "      <th></th>\n",
              "    </tr>\n",
              "  </thead>\n",
              "  <tbody>\n",
              "    <tr>\n",
              "      <th>Alondra Park</th>\n",
              "      <td>13.103333</td>\n",
              "    </tr>\n",
              "    <tr>\n",
              "      <th>Lancaster</th>\n",
              "      <td>12.944000</td>\n",
              "    </tr>\n",
              "    <tr>\n",
              "      <th>Vincent</th>\n",
              "      <td>11.345000</td>\n",
              "    </tr>\n",
              "    <tr>\n",
              "      <th>Sylmar</th>\n",
              "      <td>8.355000</td>\n",
              "    </tr>\n",
              "    <tr>\n",
              "      <th>Unincorporated Santa Monica Mountains</th>\n",
              "      <td>7.054500</td>\n",
              "    </tr>\n",
              "    <tr>\n",
              "      <th>Gardena</th>\n",
              "      <td>6.650667</td>\n",
              "    </tr>\n",
              "    <tr>\n",
              "      <th>Charter Oak</th>\n",
              "      <td>6.250000</td>\n",
              "    </tr>\n",
              "    <tr>\n",
              "      <th>Arleta</th>\n",
              "      <td>5.830000</td>\n",
              "    </tr>\n",
              "    <tr>\n",
              "      <th>Irwindale</th>\n",
              "      <td>5.476667</td>\n",
              "    </tr>\n",
              "    <tr>\n",
              "      <th>Unincorporated Santa Susana Mountains</th>\n",
              "      <td>4.930000</td>\n",
              "    </tr>\n",
              "  </tbody>\n",
              "</table>\n",
              "</div>"
            ],
            "text/plain": [
              "                                       reviews_per_month\n",
              "neighbourhood                                           \n",
              "Alondra Park                                   13.103333\n",
              "Lancaster                                      12.944000\n",
              "Vincent                                        11.345000\n",
              "Sylmar                                          8.355000\n",
              "Unincorporated Santa Monica Mountains           7.054500\n",
              "Gardena                                         6.650667\n",
              "Charter Oak                                     6.250000\n",
              "Arleta                                          5.830000\n",
              "Irwindale                                       5.476667\n",
              "Unincorporated Santa Susana Mountains           4.930000"
            ]
          },
          "metadata": {},
          "execution_count": 27
        }
      ]
    },
    {
      "cell_type": "code",
      "metadata": {
        "colab": {
          "base_uri": "https://localhost:8080/",
          "height": 112
        },
        "id": "7pQR-u44j7Zm",
        "outputId": "105401be-6992-4301-941d-6077c791d2b8"
      },
      "source": [
        "df_reviews_per_month[df_reviews_per_month.index == 'Venice']"
      ],
      "execution_count": 28,
      "outputs": [
        {
          "output_type": "execute_result",
          "data": {
            "text/html": [
              "<div>\n",
              "<style scoped>\n",
              "    .dataframe tbody tr th:only-of-type {\n",
              "        vertical-align: middle;\n",
              "    }\n",
              "\n",
              "    .dataframe tbody tr th {\n",
              "        vertical-align: top;\n",
              "    }\n",
              "\n",
              "    .dataframe thead th {\n",
              "        text-align: right;\n",
              "    }\n",
              "</style>\n",
              "<table border=\"1\" class=\"dataframe\">\n",
              "  <thead>\n",
              "    <tr style=\"text-align: right;\">\n",
              "      <th></th>\n",
              "      <th>reviews_per_month</th>\n",
              "    </tr>\n",
              "    <tr>\n",
              "      <th>neighbourhood</th>\n",
              "      <th></th>\n",
              "    </tr>\n",
              "  </thead>\n",
              "  <tbody>\n",
              "    <tr>\n",
              "      <th>Venice</th>\n",
              "      <td>1.991946</td>\n",
              "    </tr>\n",
              "  </tbody>\n",
              "</table>\n",
              "</div>"
            ],
            "text/plain": [
              "               reviews_per_month\n",
              "neighbourhood                   \n",
              "Venice                  1.991946"
            ]
          },
          "metadata": {},
          "execution_count": 28
        }
      ]
    },
    {
      "cell_type": "code",
      "metadata": {
        "colab": {
          "base_uri": "https://localhost:8080/",
          "height": 238
        },
        "id": "tfEoUOf9ai3O",
        "outputId": "5d2de509-4338-4992-c3ca-c37ae166ac34"
      },
      "source": [
        "room_type_by_data_neighbourhood = data_grouped_by_neighbourhood.room_type.value_counts().sort_values(ascending=False)\n",
        "\n",
        "df_room_type_by_data_neighbourhood = pd.DataFrame(\n",
        "    room_type_by_data_neighbourhood\n",
        ")\n",
        "df_room_type_by_data_neighbourhood.rename({'room_type': 'number_of_rooms'}, axis=1, inplace=True)\n",
        "\n",
        "df_room_type_by_data_neighbourhood.reset_index(level=['room_type'], inplace=True)\n",
        "\n",
        "df_room_type_by_data_neighbourhood.head()"
      ],
      "execution_count": 29,
      "outputs": [
        {
          "output_type": "execute_result",
          "data": {
            "text/html": [
              "<div>\n",
              "<style scoped>\n",
              "    .dataframe tbody tr th:only-of-type {\n",
              "        vertical-align: middle;\n",
              "    }\n",
              "\n",
              "    .dataframe tbody tr th {\n",
              "        vertical-align: top;\n",
              "    }\n",
              "\n",
              "    .dataframe thead th {\n",
              "        text-align: right;\n",
              "    }\n",
              "</style>\n",
              "<table border=\"1\" class=\"dataframe\">\n",
              "  <thead>\n",
              "    <tr style=\"text-align: right;\">\n",
              "      <th></th>\n",
              "      <th>room_type</th>\n",
              "      <th>number_of_rooms</th>\n",
              "    </tr>\n",
              "    <tr>\n",
              "      <th>neighbourhood</th>\n",
              "      <th></th>\n",
              "      <th></th>\n",
              "    </tr>\n",
              "  </thead>\n",
              "  <tbody>\n",
              "    <tr>\n",
              "      <th>Venice</th>\n",
              "      <td>Entire home/apt</td>\n",
              "      <td>362</td>\n",
              "    </tr>\n",
              "    <tr>\n",
              "      <th>Hollywood</th>\n",
              "      <td>Entire home/apt</td>\n",
              "      <td>187</td>\n",
              "    </tr>\n",
              "    <tr>\n",
              "      <th>Silver Lake</th>\n",
              "      <td>Entire home/apt</td>\n",
              "      <td>144</td>\n",
              "    </tr>\n",
              "    <tr>\n",
              "      <th>Santa Monica</th>\n",
              "      <td>Entire home/apt</td>\n",
              "      <td>126</td>\n",
              "    </tr>\n",
              "    <tr>\n",
              "      <th>Long Beach</th>\n",
              "      <td>Entire home/apt</td>\n",
              "      <td>120</td>\n",
              "    </tr>\n",
              "  </tbody>\n",
              "</table>\n",
              "</div>"
            ],
            "text/plain": [
              "                     room_type  number_of_rooms\n",
              "neighbourhood                                  \n",
              "Venice         Entire home/apt              362\n",
              "Hollywood      Entire home/apt              187\n",
              "Silver Lake    Entire home/apt              144\n",
              "Santa Monica   Entire home/apt              126\n",
              "Long Beach     Entire home/apt              120"
            ]
          },
          "metadata": {},
          "execution_count": 29
        }
      ]
    },
    {
      "cell_type": "code",
      "metadata": {
        "colab": {
          "base_uri": "https://localhost:8080/",
          "height": 175
        },
        "id": "MIV0EK1XjzcS",
        "outputId": "d1c3db88-4521-44b8-a651-8f9f0f449017"
      },
      "source": [
        "df_room_type_by_data_neighbourhood[df_room_type_by_data_neighbourhood.index=='Venice']"
      ],
      "execution_count": 32,
      "outputs": [
        {
          "output_type": "execute_result",
          "data": {
            "text/html": [
              "<div>\n",
              "<style scoped>\n",
              "    .dataframe tbody tr th:only-of-type {\n",
              "        vertical-align: middle;\n",
              "    }\n",
              "\n",
              "    .dataframe tbody tr th {\n",
              "        vertical-align: top;\n",
              "    }\n",
              "\n",
              "    .dataframe thead th {\n",
              "        text-align: right;\n",
              "    }\n",
              "</style>\n",
              "<table border=\"1\" class=\"dataframe\">\n",
              "  <thead>\n",
              "    <tr style=\"text-align: right;\">\n",
              "      <th></th>\n",
              "      <th>room_type</th>\n",
              "      <th>number_of_rooms</th>\n",
              "    </tr>\n",
              "    <tr>\n",
              "      <th>neighbourhood</th>\n",
              "      <th></th>\n",
              "      <th></th>\n",
              "    </tr>\n",
              "  </thead>\n",
              "  <tbody>\n",
              "    <tr>\n",
              "      <th>Venice</th>\n",
              "      <td>Entire home/apt</td>\n",
              "      <td>362</td>\n",
              "    </tr>\n",
              "    <tr>\n",
              "      <th>Venice</th>\n",
              "      <td>Private room</td>\n",
              "      <td>70</td>\n",
              "    </tr>\n",
              "    <tr>\n",
              "      <th>Venice</th>\n",
              "      <td>Shared room</td>\n",
              "      <td>2</td>\n",
              "    </tr>\n",
              "  </tbody>\n",
              "</table>\n",
              "</div>"
            ],
            "text/plain": [
              "                     room_type  number_of_rooms\n",
              "neighbourhood                                  \n",
              "Venice         Entire home/apt              362\n",
              "Venice            Private room               70\n",
              "Venice             Shared room                2"
            ]
          },
          "metadata": {},
          "execution_count": 32
        }
      ]
    },
    {
      "cell_type": "markdown",
      "metadata": {
        "id": "GjHJozuhTcBD"
      },
      "source": [
        "#### Conclusão\n",
        "\n",
        "Após a análise realizada sobre bairros mais engajados de Los Angeles, constatamos que o bairro com maior número de reviews mensais é o `Alondra Park` com a **média de 13 reviews por mês**. Acaba sendo curioso, pois  `Alondra Park` tem apenas 3 propriedades para alocação enquanto `Venice`, que é uma das localizações com mais propriedades **(434)**, possui a **média de 2 reviews mensais.**"
      ]
    },
    {
      "cell_type": "markdown",
      "metadata": {
        "id": "vTneAMRUYvr1"
      },
      "source": [
        "### **Q10. Qual é a média do mínimo de noites para aluguel (minimum_nights)?**"
      ]
    },
    {
      "cell_type": "code",
      "metadata": {
        "id": "_VzNhrEgY82N",
        "colab": {
          "base_uri": "https://localhost:8080/"
        },
        "outputId": "332c8d23-2c86-441e-9d64-c2c247f7ce47"
      },
      "source": [
        "# ver a média da coluna `minimum_nights``\n",
        "print('A média do mínimo de noites é {}'.format(int(df_no_outliers.minimum_nights.mean())))"
      ],
      "execution_count": 31,
      "outputs": [
        {
          "output_type": "stream",
          "name": "stdout",
          "text": [
            "A média do mínimo de noites é 20\n"
          ]
        }
      ]
    },
    {
      "cell_type": "markdown",
      "metadata": {
        "id": "GkvAg623RjoR"
      },
      "source": [
        "## Conclusões\n"
      ]
    },
    {
      "cell_type": "markdown",
      "metadata": {
        "id": "rbZ3Hsy9Ypw8"
      },
      "source": [
        "O presente estudo começou como uma análise superficial pois percebemos que ass variáveis presentes no dataset não possuem correlação entre si. Mas, no decorrer da exploração dos dados, informações e hipóteses foram levantadas, como por exemplo: A média dos valores de aluguel no dataset; Os bairros mais caros e baratos de Los Angeles; Tipo dos imóveis mais alugados; número de reviews mensais de bairros com mais propriedades contra bairros com menos propriedades e a quantidade de imóveis por bairro.\n",
        "\n",
        " "
      ]
    },
    {
      "cell_type": "code",
      "metadata": {
        "id": "6R-RO06wzEN4"
      },
      "source": [
        ""
      ],
      "execution_count": null,
      "outputs": []
    }
  ]
}